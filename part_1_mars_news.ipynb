{
 "cells": [
  {
   "attachments": {},
   "cell_type": "markdown",
   "metadata": {},
   "source": [
    "# Module 11 Challenge\n",
    "## Deliverable 1: Scrape Titles and Preview Text from Mars News"
   ]
  },
  {
   "cell_type": "code",
   "execution_count": 1,
   "metadata": {},
   "outputs": [],
   "source": [
    "# Scraping\n",
    "from splinter import Browser\n",
    "from selenium.webdriver.chrome.service import Service\n",
    "from webdriver_manager.chrome import ChromeDriverManager\n",
    "\n",
    "# parsing\n",
    "from bs4 import BeautifulSoup\n",
    "\n",
    "# data science\n",
    "import pandas as pd\n"
   ]
  },
  {
   "cell_type": "code",
   "execution_count": 2,
   "metadata": {},
   "outputs": [],
   "source": [
    "# Open a Chrome window using Splinter\n",
    "my_service = Service(executable_path=ChromeDriverManager().install())\n",
    "browser = Browser('chrome', service=my_service)"
   ]
  },
  {
   "attachments": {},
   "cell_type": "markdown",
   "metadata": {},
   "source": [
    "### Step 1: Visit the Website\n",
    "\n",
    "1. Use automated browsing to visit the [Mars news site](https://static.bc-edx.com/data/web/mars_news/index.html). Inspect the page to identify which elements to scrape.\n",
    "\n",
    "      > **Hint** To identify which elements to scrape, you might want to inspect the page by using Chrome DevTools."
   ]
  },
  {
   "cell_type": "code",
   "execution_count": 3,
   "metadata": {},
   "outputs": [],
   "source": [
    "# Visit the Mars news site\n",
    "url = 'https://static.bc-edx.com/data/web/mars_news/index.html'\n",
    "browser.visit(url)"
   ]
  },
  {
   "attachments": {},
   "cell_type": "markdown",
   "metadata": {},
   "source": [
    "### Step 2: Scrape the Website\n",
    "\n",
    "Create a Beautiful Soup object and use it to extract text elements from the website."
   ]
  },
  {
   "cell_type": "code",
   "execution_count": 4,
   "metadata": {},
   "outputs": [],
   "source": [
    "# Create a Beautiful Soup object\n",
    "# Save the HTML from the browser\n",
    "html = browser.html\n",
    "\n",
    "# Create a BeautifulSoup object from the HTML\n",
    "# According to these web pages, performance is better on lxml: \n",
    "#   https://stackoverflow.com/questions/25714417/beautiful-soup-and-table-scraping-lxml-vs-html-parser\n",
    "#   https://www.crummy.com/software/BeautifulSoup/bs4/doc/#installing-a-parser\n",
    "soup = BeautifulSoup(html, 'lxml')"
   ]
  },
  {
   "cell_type": "code",
   "execution_count": 5,
   "metadata": {},
   "outputs": [
    {
     "data": {
      "text/plain": [
       "15"
      ]
     },
     "execution_count": 5,
     "metadata": {},
     "output_type": "execute_result"
    }
   ],
   "source": [
    "# Extract all the text elements\n",
    "parent_container = soup.find('div', {'id': 'news'})\n",
    "                             \n",
    "news_articles = parent_container.find_all('div', {'class': 'row'})\n",
    "len(news_articles)"
   ]
  },
  {
   "cell_type": "code",
   "execution_count": 6,
   "metadata": {},
   "outputs": [
    {
     "name": "stdout",
     "output_type": "stream",
     "text": [
      "Article Date: November 9, 2022\n",
      "Article Title: NASA's MAVEN Observes Martian Light Show Caused by Major Solar Storm\n",
      "Article Summary: For the first time in its eight years orbiting Mars, NASA’s MAVEN mission witnessed two different types of ultraviolet aurorae simultaneously, the result of solar storms that began on Aug. 27.\n"
     ]
    }
   ],
   "source": [
    "# Check to see if we can extract the title, date, and summary of the first article\n",
    "article_date = news_articles[0].find('div', {'class': 'list_date'}).text.strip()\n",
    "article_title = news_articles[0].find('div', {'class': 'content_title'}).text.strip()\n",
    "article_preview = news_articles[0].find('div', {'class': 'article_teaser_body'}).text.strip()\n",
    "\n",
    "print(f'Article Date: {article_date}')\n",
    "print(f'Article Title: {article_title}')\n",
    "print(f'Article Summary: {article_preview}')"
   ]
  },
  {
   "cell_type": "code",
   "execution_count": 7,
   "metadata": {},
   "outputs": [
    {
     "data": {
      "text/plain": [
       "'images/9299_maven-vertical-limb-320x240.jpeg'"
      ]
     },
     "execution_count": 7,
     "metadata": {},
     "output_type": "execute_result"
    }
   ],
   "source": [
    "# Check to see if we can get the image by using sibling\n",
    "article_image = news_articles[0].find('div', {'class': 'list_image'}).find('img')['src'].strip()\n",
    "\n",
    "article_image"
   ]
  },
  {
   "attachments": {},
   "cell_type": "markdown",
   "metadata": {},
   "source": [
    "### Step 3: Store the Results\n",
    "\n",
    "Extract the titles and preview text of the news articles that you scraped. Store the scraping results in Python data structures as follows:\n",
    "\n",
    "* Store each title-and-preview pair in a Python dictionary. And, give each dictionary two keys: `title` and `preview`. An example is the following:\n",
    "\n",
    "  ```python\n",
    "  {'title': \"NASA's MAVEN Observes Martian Light Show Caused by Major Solar Storm\", \n",
    "   'preview': \"For the first time in its eight years orbiting Mars, NASA’s MAVEN mission witnessed two different types of ultraviolet aurorae simultaneously, the result of solar storms that began on Aug. 27.\"\n",
    "  }\n",
    "  ```\n",
    "\n",
    "* Store all the dictionaries in a Python list.\n",
    "\n",
    "* Print the list in your notebook."
   ]
  },
  {
   "cell_type": "code",
   "execution_count": 8,
   "metadata": {},
   "outputs": [],
   "source": [
    "# Create an empty list to store the dictionaries\n",
    "articles_list = []"
   ]
  },
  {
   "cell_type": "code",
   "execution_count": 9,
   "metadata": {},
   "outputs": [
    {
     "data": {
      "text/html": [
       "<div>\n",
       "<style scoped>\n",
       "    .dataframe tbody tr th:only-of-type {\n",
       "        vertical-align: middle;\n",
       "    }\n",
       "\n",
       "    .dataframe tbody tr th {\n",
       "        vertical-align: top;\n",
       "    }\n",
       "\n",
       "    .dataframe thead th {\n",
       "        text-align: right;\n",
       "    }\n",
       "</style>\n",
       "<table border=\"1\" class=\"dataframe\">\n",
       "  <thead>\n",
       "    <tr style=\"text-align: right;\">\n",
       "      <th></th>\n",
       "      <th>date</th>\n",
       "      <th>title</th>\n",
       "      <th>preview</th>\n",
       "      <th>image_url</th>\n",
       "    </tr>\n",
       "  </thead>\n",
       "  <tbody>\n",
       "    <tr>\n",
       "      <th>0</th>\n",
       "      <td>November 9, 2022</td>\n",
       "      <td>NASA's MAVEN Observes Martian Light Show Cause...</td>\n",
       "      <td>For the first time in its eight years orbiting...</td>\n",
       "      <td>images/9299_maven-vertical-limb-320x240.jpeg</td>\n",
       "    </tr>\n",
       "    <tr>\n",
       "      <th>1</th>\n",
       "      <td>November 1, 2022</td>\n",
       "      <td>NASA Prepares to Say 'Farewell' to InSight Spa...</td>\n",
       "      <td>A closer look at what goes into wrapping up th...</td>\n",
       "      <td>images/9292_PIA25287-320x240.jpeg</td>\n",
       "    </tr>\n",
       "    <tr>\n",
       "      <th>2</th>\n",
       "      <td>October 28, 2022</td>\n",
       "      <td>NASA and ESA Agree on Next Steps to Return Mar...</td>\n",
       "      <td>The agency’s Perseverance rover will establish...</td>\n",
       "      <td>images/9286_PIA25243-320x240.jpeg</td>\n",
       "    </tr>\n",
       "    <tr>\n",
       "      <th>3</th>\n",
       "      <td>October 27, 2022</td>\n",
       "      <td>NASA's InSight Lander Detects Stunning Meteoro...</td>\n",
       "      <td>The agency’s lander felt the ground shake duri...</td>\n",
       "      <td>images/9289_1-PIA25583320x240.jpeg</td>\n",
       "    </tr>\n",
       "    <tr>\n",
       "      <th>4</th>\n",
       "      <td>October 21, 2022</td>\n",
       "      <td>NASA To Host Briefing on InSight, Mars Reconna...</td>\n",
       "      <td>Scientists from two Mars missions will discuss...</td>\n",
       "      <td>images/9284_1-PIA25287-320x240.jpeg</td>\n",
       "    </tr>\n",
       "  </tbody>\n",
       "</table>\n",
       "</div>"
      ],
      "text/plain": [
       "               date                                              title  \\\n",
       "0  November 9, 2022  NASA's MAVEN Observes Martian Light Show Cause...   \n",
       "1  November 1, 2022  NASA Prepares to Say 'Farewell' to InSight Spa...   \n",
       "2  October 28, 2022  NASA and ESA Agree on Next Steps to Return Mar...   \n",
       "3  October 27, 2022  NASA's InSight Lander Detects Stunning Meteoro...   \n",
       "4  October 21, 2022  NASA To Host Briefing on InSight, Mars Reconna...   \n",
       "\n",
       "                                             preview  \\\n",
       "0  For the first time in its eight years orbiting...   \n",
       "1  A closer look at what goes into wrapping up th...   \n",
       "2  The agency’s Perseverance rover will establish...   \n",
       "3  The agency’s lander felt the ground shake duri...   \n",
       "4  Scientists from two Mars missions will discuss...   \n",
       "\n",
       "                                      image_url  \n",
       "0  images/9299_maven-vertical-limb-320x240.jpeg  \n",
       "1             images/9292_PIA25287-320x240.jpeg  \n",
       "2             images/9286_PIA25243-320x240.jpeg  \n",
       "3            images/9289_1-PIA25583320x240.jpeg  \n",
       "4           images/9284_1-PIA25287-320x240.jpeg  "
      ]
     },
     "execution_count": 9,
     "metadata": {},
     "output_type": "execute_result"
    }
   ],
   "source": [
    "# Loop through the text elements\n",
    "# Extract the title and preview text from the elements\n",
    "# Store each title and preview pair in a dictionary\n",
    "# Add the dictionary to the list\n",
    "for news_article in news_articles:\n",
    "    news_image = news_article.find('div', {\"class\": \"list_image\"}).find('img')['src']\n",
    "    news_date = news_article.find('div', {\"class\": \"list_date\"}).text.strip()\n",
    "    news_title = news_article.find('div', {\"class\": \"content_title\"}).text.strip()\n",
    "    news_preview = news_article.find('div', {\"class\": \"article_teaser_body\"}).text.strip()\n",
    "\n",
    "    # create a row\n",
    "    article_dict = {\n",
    "        \"date\": news_date, \n",
    "        \"title\": news_title, \n",
    "        \"preview\": news_preview, \n",
    "        \"image_url\": news_image}\n",
    "    articles_list.append(article_dict)\n",
    "\n",
    "# Print a sample of the list\n",
    "df = pd.DataFrame(articles_list)\n",
    "df.head()"
   ]
  },
  {
   "cell_type": "code",
   "execution_count": 10,
   "metadata": {},
   "outputs": [],
   "source": [
    "# Once the data is stored in a DataFrame, we can close the browser\n",
    "browser.quit()"
   ]
  },
  {
   "cell_type": "code",
   "execution_count": 11,
   "metadata": {},
   "outputs": [
    {
     "name": "stdout",
     "output_type": "stream",
     "text": [
      "<class 'pandas.core.frame.DataFrame'>\n",
      "RangeIndex: 15 entries, 0 to 14\n",
      "Data columns (total 4 columns):\n",
      " #   Column     Non-Null Count  Dtype \n",
      "---  ------     --------------  ----- \n",
      " 0   date       15 non-null     object\n",
      " 1   title      15 non-null     object\n",
      " 2   preview    15 non-null     object\n",
      " 3   image_url  15 non-null     object\n",
      "dtypes: object(4)\n",
      "memory usage: 608.0+ bytes\n"
     ]
    }
   ],
   "source": [
    "# Check dataframe\n",
    "df.info()"
   ]
  },
  {
   "cell_type": "code",
   "execution_count": 12,
   "metadata": {},
   "outputs": [
    {
     "name": "stdout",
     "output_type": "stream",
     "text": [
      "<class 'pandas.core.frame.DataFrame'>\n",
      "RangeIndex: 15 entries, 0 to 14\n",
      "Data columns (total 4 columns):\n",
      " #   Column     Non-Null Count  Dtype         \n",
      "---  ------     --------------  -----         \n",
      " 0   date       15 non-null     datetime64[ns]\n",
      " 1   title      15 non-null     object        \n",
      " 2   preview    15 non-null     object        \n",
      " 3   image_url  15 non-null     object        \n",
      "dtypes: datetime64[ns](1), object(3)\n",
      "memory usage: 608.0+ bytes\n"
     ]
    }
   ],
   "source": [
    "# Convert the date column to a datetime object\n",
    "df[\"date\"] = pd.to_datetime(df[\"date\"])\n",
    "\n",
    "# Check the dataframe\n",
    "df.info()"
   ]
  },
  {
   "cell_type": "code",
   "execution_count": 13,
   "metadata": {},
   "outputs": [
    {
     "data": {
      "text/html": [
       "<div>\n",
       "<style scoped>\n",
       "    .dataframe tbody tr th:only-of-type {\n",
       "        vertical-align: middle;\n",
       "    }\n",
       "\n",
       "    .dataframe tbody tr th {\n",
       "        vertical-align: top;\n",
       "    }\n",
       "\n",
       "    .dataframe thead th {\n",
       "        text-align: right;\n",
       "    }\n",
       "</style>\n",
       "<table border=\"1\" class=\"dataframe\">\n",
       "  <thead>\n",
       "    <tr style=\"text-align: right;\">\n",
       "      <th></th>\n",
       "      <th>date</th>\n",
       "      <th>title</th>\n",
       "      <th>preview</th>\n",
       "      <th>image_url</th>\n",
       "    </tr>\n",
       "  </thead>\n",
       "  <tbody>\n",
       "    <tr>\n",
       "      <th>0</th>\n",
       "      <td>2022-11-09</td>\n",
       "      <td>NASA's MAVEN Observes Martian Light Show Cause...</td>\n",
       "      <td>For the first time in its eight years orbiting...</td>\n",
       "      <td>images/9299_maven-vertical-limb-320x240.jpeg</td>\n",
       "    </tr>\n",
       "    <tr>\n",
       "      <th>1</th>\n",
       "      <td>2022-11-01</td>\n",
       "      <td>NASA Prepares to Say 'Farewell' to InSight Spa...</td>\n",
       "      <td>A closer look at what goes into wrapping up th...</td>\n",
       "      <td>images/9292_PIA25287-320x240.jpeg</td>\n",
       "    </tr>\n",
       "    <tr>\n",
       "      <th>2</th>\n",
       "      <td>2022-10-28</td>\n",
       "      <td>NASA and ESA Agree on Next Steps to Return Mar...</td>\n",
       "      <td>The agency’s Perseverance rover will establish...</td>\n",
       "      <td>images/9286_PIA25243-320x240.jpeg</td>\n",
       "    </tr>\n",
       "    <tr>\n",
       "      <th>3</th>\n",
       "      <td>2022-10-27</td>\n",
       "      <td>NASA's InSight Lander Detects Stunning Meteoro...</td>\n",
       "      <td>The agency’s lander felt the ground shake duri...</td>\n",
       "      <td>images/9289_1-PIA25583320x240.jpeg</td>\n",
       "    </tr>\n",
       "    <tr>\n",
       "      <th>4</th>\n",
       "      <td>2022-10-21</td>\n",
       "      <td>NASA To Host Briefing on InSight, Mars Reconna...</td>\n",
       "      <td>Scientists from two Mars missions will discuss...</td>\n",
       "      <td>images/9284_1-PIA25287-320x240.jpeg</td>\n",
       "    </tr>\n",
       "    <tr>\n",
       "      <th>5</th>\n",
       "      <td>2022-10-20</td>\n",
       "      <td>Why NASA Is Trying To Crash Land on Mars</td>\n",
       "      <td>Like a car’s crumple zone, the experimental SH...</td>\n",
       "      <td>images/9283_1-Illustration-of-SHIELD-320x240.jpeg</td>\n",
       "    </tr>\n",
       "    <tr>\n",
       "      <th>6</th>\n",
       "      <td>2022-10-19</td>\n",
       "      <td>Curiosity Mars Rover Reaches Long-Awaited Salt...</td>\n",
       "      <td>After years of climbing, the Mars rover has ar...</td>\n",
       "      <td>images/9281_1-PIA25413-320x240.jpeg</td>\n",
       "    </tr>\n",
       "    <tr>\n",
       "      <th>7</th>\n",
       "      <td>2022-10-12</td>\n",
       "      <td>Mars Mission Shields Up for Tests</td>\n",
       "      <td>Protecting Mars Sample Return spacecraft from ...</td>\n",
       "      <td>images/9276_PIA25337-320x240.jpeg</td>\n",
       "    </tr>\n",
       "    <tr>\n",
       "      <th>8</th>\n",
       "      <td>2022-10-07</td>\n",
       "      <td>NASA's InSight Waits Out Dust Storm</td>\n",
       "      <td>InSight’s team is taking steps to help the sol...</td>\n",
       "      <td>images/9275_PIA25287-clean320x240.jpeg</td>\n",
       "    </tr>\n",
       "    <tr>\n",
       "      <th>9</th>\n",
       "      <td>2022-09-19</td>\n",
       "      <td>NASA's InSight 'Hears' Its First Meteoroid Imp...</td>\n",
       "      <td>The Mars lander’s seismometer has picked up vi...</td>\n",
       "      <td>images/9264_1-PIA25408-320x240.jpeg</td>\n",
       "    </tr>\n",
       "    <tr>\n",
       "      <th>10</th>\n",
       "      <td>2022-09-15</td>\n",
       "      <td>NASA's Perseverance Rover Investigates Geologi...</td>\n",
       "      <td>The latest findings provide greater detail on ...</td>\n",
       "      <td>images/9261_26987_PIA24925_MAIN-320x240.jpeg</td>\n",
       "    </tr>\n",
       "    <tr>\n",
       "      <th>11</th>\n",
       "      <td>2022-09-12</td>\n",
       "      <td>NASA to Host Briefing on Perseverance Mars Rov...</td>\n",
       "      <td>Members of the mission will discuss the rover’...</td>\n",
       "      <td>images/9257_PIA25325-320x240.jpeg</td>\n",
       "    </tr>\n",
       "    <tr>\n",
       "      <th>12</th>\n",
       "      <td>2022-08-25</td>\n",
       "      <td>NASA's Perseverance Makes New Discoveries in M...</td>\n",
       "      <td>The rover found that Jezero Crater’s floor is ...</td>\n",
       "      <td>images/9252_1-PIA24836_Perseverance_Selfie_at_...</td>\n",
       "    </tr>\n",
       "    <tr>\n",
       "      <th>13</th>\n",
       "      <td>2022-08-05</td>\n",
       "      <td>10 Years Since Landing, NASA's Curiosity Mars ...</td>\n",
       "      <td>Despite signs of wear, the intrepid spacecraft...</td>\n",
       "      <td>images/9240_1-PIA25407-Curiositys-360-Degree-P...</td>\n",
       "    </tr>\n",
       "    <tr>\n",
       "      <th>14</th>\n",
       "      <td>2022-08-04</td>\n",
       "      <td>SAM's Top 5 Discoveries Aboard NASA's Curiosit...</td>\n",
       "      <td>“Selfie” of the Curiosity rover with inset sho...</td>\n",
       "      <td>images/9239_article_pictures2_jpeg-320x240.jpeg</td>\n",
       "    </tr>\n",
       "  </tbody>\n",
       "</table>\n",
       "</div>"
      ],
      "text/plain": [
       "         date                                              title  \\\n",
       "0  2022-11-09  NASA's MAVEN Observes Martian Light Show Cause...   \n",
       "1  2022-11-01  NASA Prepares to Say 'Farewell' to InSight Spa...   \n",
       "2  2022-10-28  NASA and ESA Agree on Next Steps to Return Mar...   \n",
       "3  2022-10-27  NASA's InSight Lander Detects Stunning Meteoro...   \n",
       "4  2022-10-21  NASA To Host Briefing on InSight, Mars Reconna...   \n",
       "5  2022-10-20           Why NASA Is Trying To Crash Land on Mars   \n",
       "6  2022-10-19  Curiosity Mars Rover Reaches Long-Awaited Salt...   \n",
       "7  2022-10-12                  Mars Mission Shields Up for Tests   \n",
       "8  2022-10-07                NASA's InSight Waits Out Dust Storm   \n",
       "9  2022-09-19  NASA's InSight 'Hears' Its First Meteoroid Imp...   \n",
       "10 2022-09-15  NASA's Perseverance Rover Investigates Geologi...   \n",
       "11 2022-09-12  NASA to Host Briefing on Perseverance Mars Rov...   \n",
       "12 2022-08-25  NASA's Perseverance Makes New Discoveries in M...   \n",
       "13 2022-08-05  10 Years Since Landing, NASA's Curiosity Mars ...   \n",
       "14 2022-08-04  SAM's Top 5 Discoveries Aboard NASA's Curiosit...   \n",
       "\n",
       "                                              preview  \\\n",
       "0   For the first time in its eight years orbiting...   \n",
       "1   A closer look at what goes into wrapping up th...   \n",
       "2   The agency’s Perseverance rover will establish...   \n",
       "3   The agency’s lander felt the ground shake duri...   \n",
       "4   Scientists from two Mars missions will discuss...   \n",
       "5   Like a car’s crumple zone, the experimental SH...   \n",
       "6   After years of climbing, the Mars rover has ar...   \n",
       "7   Protecting Mars Sample Return spacecraft from ...   \n",
       "8   InSight’s team is taking steps to help the sol...   \n",
       "9   The Mars lander’s seismometer has picked up vi...   \n",
       "10  The latest findings provide greater detail on ...   \n",
       "11  Members of the mission will discuss the rover’...   \n",
       "12  The rover found that Jezero Crater’s floor is ...   \n",
       "13  Despite signs of wear, the intrepid spacecraft...   \n",
       "14  “Selfie” of the Curiosity rover with inset sho...   \n",
       "\n",
       "                                            image_url  \n",
       "0        images/9299_maven-vertical-limb-320x240.jpeg  \n",
       "1                   images/9292_PIA25287-320x240.jpeg  \n",
       "2                   images/9286_PIA25243-320x240.jpeg  \n",
       "3                  images/9289_1-PIA25583320x240.jpeg  \n",
       "4                 images/9284_1-PIA25287-320x240.jpeg  \n",
       "5   images/9283_1-Illustration-of-SHIELD-320x240.jpeg  \n",
       "6                 images/9281_1-PIA25413-320x240.jpeg  \n",
       "7                   images/9276_PIA25337-320x240.jpeg  \n",
       "8              images/9275_PIA25287-clean320x240.jpeg  \n",
       "9                 images/9264_1-PIA25408-320x240.jpeg  \n",
       "10       images/9261_26987_PIA24925_MAIN-320x240.jpeg  \n",
       "11                  images/9257_PIA25325-320x240.jpeg  \n",
       "12  images/9252_1-PIA24836_Perseverance_Selfie_at_...  \n",
       "13  images/9240_1-PIA25407-Curiositys-360-Degree-P...  \n",
       "14    images/9239_article_pictures2_jpeg-320x240.jpeg  "
      ]
     },
     "execution_count": 13,
     "metadata": {},
     "output_type": "execute_result"
    }
   ],
   "source": [
    "# Print the list to confirm success\n",
    "df"
   ]
  },
  {
   "cell_type": "code",
   "execution_count": null,
   "metadata": {},
   "outputs": [],
   "source": []
  }
 ],
 "metadata": {
  "kernelspec": {
   "display_name": "Python 3 (ipykernel)",
   "language": "python",
   "name": "python3"
  },
  "language_info": {
   "codemirror_mode": {
    "name": "ipython",
    "version": 3
   },
   "file_extension": ".py",
   "mimetype": "text/x-python",
   "name": "python",
   "nbconvert_exporter": "python",
   "pygments_lexer": "ipython3",
   "version": "3.10.14"
  },
  "vscode": {
   "interpreter": {
    "hash": "31f2aee4e71d21fbe5cf8b01ff0e069b9275f58929596ceb00d14d90e3e16cd6"
   }
  }
 },
 "nbformat": 4,
 "nbformat_minor": 4
}
